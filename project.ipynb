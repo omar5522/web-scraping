{
 "cells": [
  {
   "cell_type": "code",
   "execution_count": null,
   "metadata": {},
   "outputs": [],
   "source": [
    "import requests\n",
    "from bs4 import BeautifulSoup\n",
    "import pandas as pd"
   ]
  },
  {
   "cell_type": "code",
   "execution_count": null,
   "metadata": {},
   "outputs": [],
   "source": [
    "all_doc_content = []\n",
    "all_prices = []"
   ]
  },
  {
   "cell_type": "code",
   "execution_count": null,
   "metadata": {},
   "outputs": [],
   "source": [
    "for j in range(1, 27):\n",
    "    url = f\"https://www.jumia.com.eg/ar/flash-sales/?page={j}#catalog-listing\"\n",
    "    response = requests.get(url)\n",
    "    html = response.content\n",
    "    soup = BeautifulSoup(html, 'html.parser')\n",
    "    main_content = soup.find('div', {'class': '-pvs col12'})\n",
    "    doc_content_list = [element.text.strip() for element in main_content.find_all(['h3'])]#\n",
    "    price_list = [element.text.strip() for element in price]#\n",
    "\n",
    "    all_doc_content.extend(doc_content_list)\n",
    "    all_prices.extend(price_list)"
   ]
  },
  {
   "cell_type": "code",
   "execution_count": null,
   "metadata": {},
   "outputs": [],
   "source": [
    "# Create a DataFrame with the extracted data\n",
    "data = {'اسم المنتج': all_doc_content, 'سعر المنتج': all_prices}\n",
    "df = pd.DataFrame(data)\n",
    "\n",
    "# Save the DataFrame to an Excel file\n",
    "df.to_excel('outpu44t.xlsx', index=False)\n"
   ]
  }
 ],
 "metadata": {
  "language_info": {
   "name": "python"
  },
  "orig_nbformat": 4
 },
 "nbformat": 4,
 "nbformat_minor": 2
}
